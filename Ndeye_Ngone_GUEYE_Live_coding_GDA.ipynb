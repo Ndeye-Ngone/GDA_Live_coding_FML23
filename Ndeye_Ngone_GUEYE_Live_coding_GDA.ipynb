{
  "nbformat": 4,
  "nbformat_minor": 0,
  "metadata": {
    "colab": {
      "provenance": [],
      "include_colab_link": true
    },
    "kernelspec": {
      "name": "python3",
      "display_name": "Python 3"
    },
    "language_info": {
      "name": "python"
    }
  },
  "cells": [
    {
      "cell_type": "markdown",
      "metadata": {
        "id": "view-in-github",
        "colab_type": "text"
      },
      "source": [
        "<a href=\"https://colab.research.google.com/github/Ndeye-Ngone/GDA_Live_coding_FML23/blob/main/Ndeye_Ngone_GUEYE_Live_coding_GDA.ipynb\" target=\"_parent\"><img src=\"https://colab.research.google.com/assets/colab-badge.svg\" alt=\"Open In Colab\"/></a>"
      ]
    },
    {
      "cell_type": "markdown",
      "source": [
        "# GDA Implementation.\n",
        "\n",
        "Implement the Gaussian Discriminant Analysis (GDA) learning algorithm following the steps as discussed in class.\n",
        "\n",
        "INSTRUCTION: Rename your notebook as: <br>\n",
        "`firstName_LastName_Live_coding_GDA.ipynb`.\n",
        "\n",
        "Notes: \n",
        "* Do not use any built-in functions to complete a task;\n",
        "* Do not import additional libraries."
      ],
      "metadata": {
        "id": "g17Z46tmw2oZ"
      }
    },
    {
      "cell_type": "code",
      "execution_count": 1,
      "metadata": {
        "id": "aT5nlL-QTKwv"
      },
      "outputs": [],
      "source": [
        "import numpy as np\n",
        "import matplotlib.pyplot as plt\n",
        "from sklearn.datasets import make_classification"
      ]
    },
    {
      "cell_type": "code",
      "source": [
        "# Generate data\n",
        "def generate_data():\n",
        "  x, y = make_classification(n_samples= 1000, n_features=3, n_redundant=0, \n",
        "                           n_informative=3, random_state=1, \n",
        "                           n_clusters_per_class=1)\n",
        "  \n",
        "  return x,y\n",
        "\n",
        "x,y=generate_data()# get data\n",
        "print(x.shape, y.shape)"
      ],
      "metadata": {
        "colab": {
          "base_uri": "https://localhost:8080/"
        },
        "id": "_-lL4Yq9Tbzn",
        "outputId": "cbe9d111-7763-460a-ed9f-21219f38907a"
      },
      "execution_count": 2,
      "outputs": [
        {
          "output_type": "stream",
          "name": "stdout",
          "text": [
            "(1000, 3) (1000,)\n"
          ]
        }
      ]
    },
    {
      "cell_type": "code",
      "source": [
        "def split_data(x,y, train_size= 0.8):\n",
        "    # shuffle the data to randomize the train/test split\n",
        "  \n",
        "  n=x.shape[0]\n",
        "\n",
        "  suffle=np.random.permutation(n) \n",
        "  x_suffle=x[suffle]\n",
        "  y_suffle=y[suffle]\n",
        "\n",
        "  x_train=x_suffle[:int(train_size*n)]\n",
        "\n",
        "  y_train=y_suffle[:int(train_size*n)]\n",
        "\n",
        "  x_test=x_suffle[int(train_size*n):]\n",
        "\n",
        "  y_test=y_suffle[int(train_size*n):]\n",
        "\n",
        "  return x_train,x_test,y_train,y_test"
      ],
      "metadata": {
        "id": "EUgiWLDhUAAK"
      },
      "execution_count": 3,
      "outputs": []
    },
    {
      "cell_type": "code",
      "source": [
        "X_train, X_test, y_train, y_test=split_data(x,y, train_size= 0.8) # split your data into x_train, x_test, y_train, y_test\n",
        "print(X_train.shape, y_train.shape, X_test.shape, y_test.shape)"
      ],
      "metadata": {
        "colab": {
          "base_uri": "https://localhost:8080/"
        },
        "id": "Cr2Akm_A_FcJ",
        "outputId": "33a916d3-f7f4-416d-a932-07a8f89af9f8"
      },
      "execution_count": 4,
      "outputs": [
        {
          "output_type": "stream",
          "name": "stdout",
          "text": [
            "(800, 3) (800,) (200, 3) (200,)\n"
          ]
        }
      ]
    },
    {
      "cell_type": "code",
      "source": [
        "def covariance(x,mu):\n",
        "\n",
        "  # Easy way: cov= np.cov(x, rowvar=0) but do not use it. One can use it to assess his/her result.\n",
        "\n",
        "  n,d=x.shape\n",
        "\n",
        "  cov=np.zeros((d,d))\n",
        "\n",
        "  for i in range(d):\n",
        "\n",
        "    for j in range(d):\n",
        "\n",
        "      cov[i][j]=( np.sum( (x[:,i]-mu[i]) * (x[:,j]-mu[j]) ) )/(n-1)\n",
        "\n",
        "  return cov\n",
        "\n",
        "\n",
        "def mu_(x,y,k):\n",
        "    n,d=x.shape\n",
        "    indicator=0\n",
        "    x_sum=np.zeros(d)\n",
        "    for i in range(n):\n",
        "      if y[i]==k:\n",
        "        indicator+=1\n",
        "        x_sum+=x[i]\n",
        "    return x_sum/indicator\n",
        "\n",
        "\n",
        "def phi_(y,k):\n",
        "    n=y.shape[0]\n",
        "    indicator=0\n",
        "    for i in range(n):\n",
        "       if y[i]==k:\n",
        "        indicator+=1\n",
        "    return indicator/n\n",
        "\n",
        "\n",
        "def gaussien_density(x,mu,sigma):\n",
        "  #x=x.reshape(1,-x.shape[0])\n",
        "  #mu=mu.reshape(1,-mu.shape[0])\n",
        "  #d=x.shape[1]\n",
        "\n",
        "  d=x.shape[0]\n",
        "\n",
        "  const=(2*np.pi)**(d/2)\n",
        "\n",
        "  det=np.linalg.det(sigma)\n",
        "  \n",
        "  x_mean=x-mu\n",
        "\n",
        "  X=( x_mean.T@(np.linalg.inv(sigma)))@(x_mean)\n",
        "\n",
        "  return np.exp(-X/2)/((const)*(det**(1/2)))\n",
        "\n",
        "\n",
        "def bernoulli(phi,k):\n",
        "  return (phi**k)*((1-phi)**(1-k))\n",
        "\n",
        "\n",
        "\n"
      ],
      "metadata": {
        "id": "FrJ7GfXBHNxD"
      },
      "execution_count": 5,
      "outputs": []
    },
    {
      "cell_type": "code",
      "source": [
        "x1=np.array([[2,3],[1,2],[2,4],[0,2]])"
      ],
      "metadata": {
        "id": "1F4bGXBcsuk0"
      },
      "execution_count": 6,
      "outputs": []
    },
    {
      "cell_type": "code",
      "source": [
        "y1=np.array([[1],[0],[1],[0]])"
      ],
      "metadata": {
        "id": "iHQGRsW3uLPz"
      },
      "execution_count": 7,
      "outputs": []
    },
    {
      "cell_type": "code",
      "source": [
        "mu_x=mu_(x1,y1,0)\n",
        "mu_x"
      ],
      "metadata": {
        "colab": {
          "base_uri": "https://localhost:8080/"
        },
        "id": "lxmo2BZBuhKD",
        "outputId": "520a4167-13e5-4d8d-8ff7-da2c6627d957"
      },
      "execution_count": 8,
      "outputs": [
        {
          "output_type": "execute_result",
          "data": {
            "text/plain": [
              "array([0.5, 2. ])"
            ]
          },
          "metadata": {},
          "execution_count": 8
        }
      ]
    },
    {
      "cell_type": "code",
      "source": [
        "mu_y=mu_(x1,y1,1)\n",
        "mu_y"
      ],
      "metadata": {
        "colab": {
          "base_uri": "https://localhost:8080/"
        },
        "id": "MpPJIqSnu-VE",
        "outputId": "18c4b380-fd3b-456a-c882-09ef398c541d"
      },
      "execution_count": 9,
      "outputs": [
        {
          "output_type": "execute_result",
          "data": {
            "text/plain": [
              "array([2. , 3.5])"
            ]
          },
          "metadata": {},
          "execution_count": 9
        }
      ]
    },
    {
      "cell_type": "code",
      "source": [
        "a=np.array([[2,1],[4,5],[1,2],[3,4],[7,6]])\n",
        "b=np.array([[1],[1],[1],[1],[1]])\n",
        "mu=mu_(a,b,1)\n",
        "mu"
      ],
      "metadata": {
        "colab": {
          "base_uri": "https://localhost:8080/"
        },
        "id": "yraE9N3n4WDf",
        "outputId": "a4711ef9-e25a-4676-dc81-55ffa369bb3f"
      },
      "execution_count": 10,
      "outputs": [
        {
          "output_type": "execute_result",
          "data": {
            "text/plain": [
              "array([3.4, 3.6])"
            ]
          },
          "metadata": {},
          "execution_count": 10
        }
      ]
    },
    {
      "cell_type": "code",
      "source": [
        "np.cov(a,rowvar=0)"
      ],
      "metadata": {
        "colab": {
          "base_uri": "https://localhost:8080/"
        },
        "id": "mq_2MNT_7V4Y",
        "outputId": "f35bcf7e-10a9-464a-ae86-0981f19f14b2"
      },
      "execution_count": 11,
      "outputs": [
        {
          "output_type": "execute_result",
          "data": {
            "text/plain": [
              "array([[5.3, 4.2],\n",
              "       [4.2, 4.3]])"
            ]
          },
          "metadata": {},
          "execution_count": 11
        }
      ]
    },
    {
      "cell_type": "code",
      "source": [
        "covariance(a,a.mean(0))"
      ],
      "metadata": {
        "colab": {
          "base_uri": "https://localhost:8080/"
        },
        "id": "e0aSuZmSwG9X",
        "outputId": "fc816cf7-a035-4b38-c943-cab2503bf0dd"
      },
      "execution_count": 12,
      "outputs": [
        {
          "output_type": "execute_result",
          "data": {
            "text/plain": [
              "array([[5.3, 4.2],\n",
              "       [4.2, 4.3]])"
            ]
          },
          "metadata": {},
          "execution_count": 12
        }
      ]
    },
    {
      "cell_type": "code",
      "source": [
        "np.cov(x,rowvar=0)"
      ],
      "metadata": {
        "colab": {
          "base_uri": "https://localhost:8080/"
        },
        "id": "a6vrs_Ce8mjQ",
        "outputId": "91bf5dc6-6393-4a53-a3b8-1f6b0f52f563"
      },
      "execution_count": 13,
      "outputs": [
        {
          "output_type": "execute_result",
          "data": {
            "text/plain": [
              "array([[1.84495325, 0.02790646, 1.00137533],\n",
              "       [0.02790646, 1.00170721, 0.05539176],\n",
              "       [1.00137533, 0.05539176, 1.74832   ]])"
            ]
          },
          "metadata": {},
          "execution_count": 13
        }
      ]
    },
    {
      "cell_type": "code",
      "source": [
        "covariance(x,x.mean(0))"
      ],
      "metadata": {
        "colab": {
          "base_uri": "https://localhost:8080/"
        },
        "id": "YKYYKFUP8p4S",
        "outputId": "24759314-4a42-424c-cd22-81acb995a2a8"
      },
      "execution_count": 14,
      "outputs": [
        {
          "output_type": "execute_result",
          "data": {
            "text/plain": [
              "array([[1.84495325, 0.02790646, 1.00137533],\n",
              "       [0.02790646, 1.00170721, 0.05539176],\n",
              "       [1.00137533, 0.05539176, 1.74832   ]])"
            ]
          },
          "metadata": {},
          "execution_count": 14
        }
      ]
    },
    {
      "cell_type": "code",
      "source": [
        "class GDA:\n",
        "  def __init__(self):\n",
        "    ## set mu, phi and sigma to None\n",
        "    self.mu=None\n",
        "    self.sigma=None\n",
        "    self.phi=None\n",
        "\n",
        "    \n",
        "  def fit(self,x,y):\n",
        "    k=2 # Number of class.\n",
        "    d=x.shape[1] # input dim\n",
        "    m= x.shape[0] # Number of examples.\n",
        "    \n",
        "    ## Initialize mu, phi and sigma\n",
        "    self.mu=np.zeros((k,d))#: kxd, i.e., each row contains an individual class mu.\n",
        "    self.sigma=np.zeros((k,d,d))#: kxdxd, i.e., each row contains an individual class sigma.\n",
        "    self.phi= np.zeros(k)# k-dimension\n",
        "\n",
        "    ## START THE LEARNING: estimate mu, phi and sigma.\n",
        "\n",
        "    for lab in range(k):\n",
        "\n",
        "      bool_=(lab==y)\n",
        "\n",
        "      self.phi[lab]=phi_(y,lab)\n",
        "\n",
        "      self.mu[lab]=mu_(x,y,lab)\n",
        "\n",
        "      self.sigma[lab]=covariance(x[bool_],self.mu[lab])\n",
        "\n",
        "\n",
        "  def predict_proba(self,x):\n",
        "    # reshape or flatt x.\n",
        "   # x= ...\n",
        "    d=x.shape[1]\n",
        "    k_class= self.mu.shape[0]# Number of classes we have in our case it's k = 2\n",
        "    \n",
        "    ## START THE LEARNING: estimate mu, phi and sigma.\n",
        "    proba=np.zeros((x.shape[0],k_class))\n",
        "\n",
        "    for lab in range(k_class):\n",
        "\n",
        "      for i in range(x.shape[0]):\n",
        "        \n",
        "        ###proba[i][lab]=gaussien_density(x[i],self.mu[lab],self.sigma[lab])*bernoulli(self.phi[lab],lab)\n",
        "\n",
        "        proba[i][lab]=gaussien_density(x[i],self.mu[lab],self.sigma[lab])*self.phi[lab]\n",
        "    \n",
        "    return proba\n",
        "\n",
        "\n",
        "  def predict(self,x):\n",
        "\n",
        "    proba=self.predict_proba(x)\n",
        "\n",
        "    y_pred=np.argmax(proba,axis=1)\n",
        "\n",
        "    #self.y_pred=y_pred\n",
        "\n",
        "    return y_pred\n",
        "  \n",
        "  \n",
        "  def accuracy(self, y, ypreds):\n",
        "    return np.mean(y==ypreds)*100\n",
        "\n"
      ],
      "metadata": {
        "id": "1ocKLDAfceF0"
      },
      "execution_count": 15,
      "outputs": []
    },
    {
      "cell_type": "code",
      "source": [],
      "metadata": {
        "id": "Ne-K_TP19zRd"
      },
      "execution_count": 15,
      "outputs": []
    },
    {
      "cell_type": "code",
      "source": [
        "model= GDA()\n",
        "model.fit(X_train,y_train)"
      ],
      "metadata": {
        "id": "l_qO0Yp1c3Is"
      },
      "execution_count": 16,
      "outputs": []
    },
    {
      "cell_type": "code",
      "source": [
        "model.phi"
      ],
      "metadata": {
        "colab": {
          "base_uri": "https://localhost:8080/"
        },
        "id": "uWTmP41uDgiw",
        "outputId": "c10959b1-6d41-4400-c977-387ca0cb9257"
      },
      "execution_count": 17,
      "outputs": [
        {
          "output_type": "execute_result",
          "data": {
            "text/plain": [
              "array([0.49125, 0.50875])"
            ]
          },
          "metadata": {},
          "execution_count": 17
        }
      ]
    },
    {
      "cell_type": "code",
      "source": [
        "model.mu"
      ],
      "metadata": {
        "colab": {
          "base_uri": "https://localhost:8080/"
        },
        "id": "5ktGGQs_Djrb",
        "outputId": "6fa86ec8-b681-43ee-9921-db0329589691"
      },
      "execution_count": 18,
      "outputs": [
        {
          "output_type": "execute_result",
          "data": {
            "text/plain": [
              "array([[ 0.99189294,  1.13508193,  1.00901412],\n",
              "       [-1.01714153,  0.95847114, -0.96403797]])"
            ]
          },
          "metadata": {},
          "execution_count": 18
        }
      ]
    },
    {
      "cell_type": "code",
      "source": [
        "model.sigma"
      ],
      "metadata": {
        "colab": {
          "base_uri": "https://localhost:8080/"
        },
        "id": "FEjfLoLIDjvA",
        "outputId": "88a5a7bd-095f-4937-ea27-3c0f384ba12d"
      },
      "execution_count": 19,
      "outputs": [
        {
          "output_type": "execute_result",
          "data": {
            "text/plain": [
              "array([[[ 0.89094492, -0.38653686, -0.06587326],\n",
              "        [-0.38653686,  1.69225741,  0.09578715],\n",
              "        [-0.06587326,  0.09578715,  0.03734381]],\n",
              "\n",
              "       [[ 0.80965789,  0.33003743,  0.14684351],\n",
              "        [ 0.33003743,  0.33600361, -0.07072688],\n",
              "        [ 0.14684351, -0.07072688,  1.61965731]]])"
            ]
          },
          "metadata": {},
          "execution_count": 19
        }
      ]
    },
    {
      "cell_type": "code",
      "source": [
        "#gaussien_density(X_train[0],model.mu[0],model.sigma[0])"
      ],
      "metadata": {
        "id": "Ty1rVB30j1P4"
      },
      "execution_count": 20,
      "outputs": []
    },
    {
      "cell_type": "code",
      "source": [
        "yproba= model.predict_proba(X_test)\n",
        "yproba"
      ],
      "metadata": {
        "id": "NKY1eojY1l4e",
        "colab": {
          "base_uri": "https://localhost:8080/"
        },
        "outputId": "ac93fc8a-457f-423e-f738-83160a50b7ec"
      },
      "execution_count": 21,
      "outputs": [
        {
          "output_type": "execute_result",
          "data": {
            "text/plain": [
              "array([[1.02577013e-022, 5.38490414e-002],\n",
              "       [2.99356837e-030, 3.93062783e-002],\n",
              "       [7.64525774e-002, 6.75394423e-004],\n",
              "       [2.37928498e-002, 2.99153945e-006],\n",
              "       [6.27117691e-003, 4.61025553e-021],\n",
              "       [7.53831435e-063, 4.06263681e-002],\n",
              "       [9.84194642e-091, 1.03803293e-002],\n",
              "       [1.21473709e-012, 3.61465175e-002],\n",
              "       [7.76599002e-014, 2.98262221e-002],\n",
              "       [2.28376415e-002, 9.31778722e-004],\n",
              "       [6.92129222e-002, 4.41120143e-009],\n",
              "       [6.04800826e-002, 3.01093364e-003],\n",
              "       [1.12209383e-001, 2.73507494e-004],\n",
              "       [1.07976316e-002, 1.76604714e-006],\n",
              "       [6.37935327e-011, 1.05277157e-003],\n",
              "       [6.66626873e-002, 8.50551389e-008],\n",
              "       [4.56640476e-004, 4.46967371e-006],\n",
              "       [3.85285537e-002, 1.15292649e-004],\n",
              "       [1.17710031e-016, 3.70937204e-002],\n",
              "       [2.52062500e-084, 1.68300139e-002],\n",
              "       [1.16717334e-001, 6.09402203e-006],\n",
              "       [1.17450978e-003, 1.65416170e-016],\n",
              "       [1.42603445e-052, 6.26361196e-003],\n",
              "       [9.87715496e-002, 1.53339715e-005],\n",
              "       [2.85289086e-002, 2.30115513e-007],\n",
              "       [1.01560490e-009, 1.61682223e-002],\n",
              "       [1.87452840e-074, 9.33543024e-003],\n",
              "       [4.50016564e-015, 1.51814566e-002],\n",
              "       [5.14578996e-002, 2.74721158e-012],\n",
              "       [1.00312236e-001, 5.36804540e-007],\n",
              "       [1.81889637e-002, 2.17743028e-004],\n",
              "       [4.66926538e-008, 2.83584485e-003],\n",
              "       [1.04868715e-001, 2.20477236e-004],\n",
              "       [5.00459680e-036, 1.26337602e-002],\n",
              "       [1.03016109e-001, 2.99960665e-006],\n",
              "       [1.78313190e-002, 8.34056887e-004],\n",
              "       [4.90832627e-014, 4.04749199e-002],\n",
              "       [8.16825214e-016, 4.85458824e-002],\n",
              "       [1.09518518e-093, 5.25676117e-003],\n",
              "       [5.83829362e-025, 8.70640589e-003],\n",
              "       [1.11097398e-001, 3.89041728e-003],\n",
              "       [1.25311856e-002, 1.25708491e-012],\n",
              "       [4.97393603e-002, 4.78492778e-008],\n",
              "       [8.14941604e-003, 1.58637157e-017],\n",
              "       [1.16300472e-001, 2.28356525e-003],\n",
              "       [1.66830380e-057, 1.86163177e-003],\n",
              "       [2.87036092e-002, 5.60684020e-006],\n",
              "       [1.11434691e-017, 4.77769128e-003],\n",
              "       [6.99445595e-002, 5.00793020e-010],\n",
              "       [4.52163008e-008, 3.84242251e-002],\n",
              "       [6.54695226e-025, 2.37251284e-002],\n",
              "       [1.24312464e-001, 5.80782446e-003],\n",
              "       [2.28619667e-100, 3.92258759e-003],\n",
              "       [9.16930393e-002, 3.12022003e-005],\n",
              "       [9.00514746e-005, 2.40554196e-002],\n",
              "       [7.59721544e-077, 8.04103394e-003],\n",
              "       [6.07776332e-002, 6.41251262e-004],\n",
              "       [3.10276144e-054, 4.63290277e-002],\n",
              "       [2.06832854e-058, 3.99002261e-002],\n",
              "       [2.19693471e-002, 6.71179730e-009],\n",
              "       [1.71675519e-002, 1.50390863e-005],\n",
              "       [2.20326132e-002, 1.26188057e-013],\n",
              "       [1.61909428e-028, 1.67932083e-002],\n",
              "       [2.43501928e-045, 4.39357119e-002],\n",
              "       [7.43344113e-021, 3.06872992e-002],\n",
              "       [1.82068020e-002, 2.43517047e-007],\n",
              "       [8.36478865e-016, 1.86243461e-002],\n",
              "       [4.51404802e-002, 2.94237413e-010],\n",
              "       [6.93050562e-002, 1.38243882e-009],\n",
              "       [2.78055941e-060, 1.89599370e-002],\n",
              "       [1.06808503e-001, 5.54205243e-004],\n",
              "       [5.75712855e-002, 4.63028089e-010],\n",
              "       [2.55735046e-004, 5.02566303e-003],\n",
              "       [1.89194911e-014, 3.58680432e-002],\n",
              "       [3.12494989e-020, 4.20609154e-002],\n",
              "       [3.95640096e-002, 1.88212703e-012],\n",
              "       [6.37280299e-025, 3.42585508e-002],\n",
              "       [5.57272887e-049, 6.55001737e-003],\n",
              "       [3.58076518e-002, 5.94828520e-003],\n",
              "       [6.50005395e-002, 5.19061352e-003],\n",
              "       [1.50326762e-003, 6.83598535e-003],\n",
              "       [2.41229788e-002, 1.12051609e-007],\n",
              "       [1.19768887e-001, 2.62549472e-003],\n",
              "       [1.14012228e-030, 4.74490654e-002],\n",
              "       [6.33758882e-002, 6.76060812e-004],\n",
              "       [3.06552743e-002, 9.49378383e-003],\n",
              "       [5.38101413e-002, 1.13135071e-010],\n",
              "       [7.92906945e-003, 2.25620933e-002],\n",
              "       [3.38550543e-002, 1.04753340e-014],\n",
              "       [1.28079021e-081, 2.78855972e-002],\n",
              "       [8.74654422e-002, 1.61388214e-004],\n",
              "       [6.91892010e-014, 2.87361305e-002],\n",
              "       [1.44387376e-001, 1.58141244e-003],\n",
              "       [3.40500656e-002, 1.00708662e-008],\n",
              "       [3.16638084e-008, 2.94091824e-003],\n",
              "       [1.22129237e-060, 1.37855317e-002],\n",
              "       [4.03573538e-033, 8.17569875e-003],\n",
              "       [1.21191774e-002, 4.19469357e-005],\n",
              "       [3.67301618e-160, 7.61147729e-003],\n",
              "       [2.20529808e-073, 3.71629081e-002],\n",
              "       [8.34330738e-002, 7.37475874e-004],\n",
              "       [1.88981724e-002, 1.24924991e-002],\n",
              "       [1.35128490e-002, 1.36771843e-020],\n",
              "       [1.35517463e-085, 2.90796232e-002],\n",
              "       [8.78129974e-022, 9.29039200e-003],\n",
              "       [1.68305794e-095, 1.82651065e-002],\n",
              "       [1.37507009e-002, 3.60503816e-004],\n",
              "       [1.72466444e-009, 3.17360245e-002],\n",
              "       [1.78142668e-028, 3.71208201e-002],\n",
              "       [2.65924195e-025, 2.15911421e-002],\n",
              "       [1.98678822e-142, 1.06720751e-003],\n",
              "       [6.37563124e-002, 4.82589975e-009],\n",
              "       [1.33668344e-001, 1.09305995e-003],\n",
              "       [6.01104988e-002, 1.40311328e-008],\n",
              "       [1.64007105e-018, 1.06609109e-002],\n",
              "       [8.94701045e-003, 1.41447954e-004],\n",
              "       [8.11480401e-038, 3.96931735e-002],\n",
              "       [1.24111157e-001, 1.85113763e-004],\n",
              "       [5.13323987e-070, 3.42410504e-002],\n",
              "       [1.69428830e-042, 6.31900943e-002],\n",
              "       [1.96699563e-002, 1.58759658e-010],\n",
              "       [3.95312032e-002, 3.32072934e-013],\n",
              "       [1.74497601e-003, 1.69016216e-002],\n",
              "       [4.61735733e-074, 2.94526994e-002],\n",
              "       [6.62678879e-002, 4.83139105e-004],\n",
              "       [8.44503217e-010, 1.56070814e-002],\n",
              "       [8.30872865e-002, 2.66991221e-004],\n",
              "       [1.31898495e-001, 6.31274478e-003],\n",
              "       [4.84233523e-003, 8.37437784e-014],\n",
              "       [3.01443456e-026, 4.94041444e-002],\n",
              "       [1.97638464e-016, 2.11875662e-002],\n",
              "       [3.77020685e-003, 4.04930037e-007],\n",
              "       [2.10554144e-002, 4.41295231e-009],\n",
              "       [1.00840733e-001, 7.94417403e-004],\n",
              "       [4.17350114e-002, 8.08656384e-004],\n",
              "       [6.32920701e-018, 3.18811454e-002],\n",
              "       [9.03536121e-050, 2.86542948e-002],\n",
              "       [4.97865177e-015, 3.88742509e-002],\n",
              "       [6.61415269e-030, 1.89982527e-002],\n",
              "       [1.21973457e-036, 1.40886508e-002],\n",
              "       [6.49990764e-002, 1.47584803e-006],\n",
              "       [5.39085637e-002, 3.31476828e-004],\n",
              "       [6.35701325e-002, 2.08788241e-003],\n",
              "       [1.93328637e-002, 2.84664788e-015],\n",
              "       [4.36194876e-072, 2.12896204e-002],\n",
              "       [1.23083238e-097, 3.70408521e-003],\n",
              "       [1.72247538e-093, 2.36730949e-002],\n",
              "       [7.40588325e-002, 1.20278162e-005],\n",
              "       [3.31916459e-003, 1.88808957e-002],\n",
              "       [2.49808790e-005, 4.08514788e-003],\n",
              "       [5.66813114e-002, 2.00250379e-010],\n",
              "       [1.44705846e-019, 5.88466709e-002],\n",
              "       [2.75203265e-053, 7.36175968e-003],\n",
              "       [1.38867669e-002, 1.55961010e-005],\n",
              "       [6.04736409e-018, 5.51074321e-002],\n",
              "       [1.36061599e-001, 7.25969551e-004],\n",
              "       [3.94442751e-003, 2.27472888e-002],\n",
              "       [1.32769605e-001, 1.18465853e-004],\n",
              "       [8.36988936e-003, 4.33874121e-005],\n",
              "       [4.44117270e-025, 1.18588405e-002],\n",
              "       [4.58063306e-003, 6.59324829e-006],\n",
              "       [1.23146429e-001, 3.90566128e-003],\n",
              "       [1.22721030e-071, 1.27068659e-002],\n",
              "       [2.20808611e-052, 4.79458689e-002],\n",
              "       [5.98194033e-002, 8.92288270e-003],\n",
              "       [9.55173301e-002, 7.75402200e-003],\n",
              "       [2.34780996e-028, 1.74079975e-002],\n",
              "       [1.45778214e-106, 1.04716493e-002],\n",
              "       [8.81862826e-011, 6.52164199e-004],\n",
              "       [1.30172614e-001, 1.37927524e-003],\n",
              "       [1.15328184e-002, 2.10392050e-002],\n",
              "       [9.66610203e-009, 1.84257499e-004],\n",
              "       [1.84448768e-032, 1.50469333e-002],\n",
              "       [1.64625240e-003, 2.80282658e-021],\n",
              "       [8.01670154e-003, 8.79815556e-013],\n",
              "       [3.24826858e-026, 5.68853445e-003],\n",
              "       [5.31300293e-002, 1.31014972e-006],\n",
              "       [8.43920435e-002, 2.26940212e-004],\n",
              "       [9.64066603e-057, 4.40606054e-002],\n",
              "       [2.92352314e-037, 3.34798799e-002],\n",
              "       [5.95001109e-002, 1.31735883e-004],\n",
              "       [3.25291978e-004, 2.31699168e-005],\n",
              "       [4.56344290e-002, 2.87237392e-004],\n",
              "       [1.93855902e-002, 1.15892296e-005],\n",
              "       [4.16730685e-002, 3.97487735e-005],\n",
              "       [9.65206846e-039, 1.47598194e-002],\n",
              "       [1.52317024e-001, 3.27242090e-004],\n",
              "       [2.47432685e-002, 4.42984201e-004],\n",
              "       [1.49175191e-008, 1.49615207e-002],\n",
              "       [2.28882790e-005, 2.13907967e-002],\n",
              "       [3.47080457e-073, 2.49907756e-002],\n",
              "       [2.02635049e-161, 4.72869174e-003],\n",
              "       [5.29358035e-002, 3.80291474e-003],\n",
              "       [4.07213370e-002, 1.28100225e-004],\n",
              "       [1.21322470e-001, 1.63188257e-003],\n",
              "       [7.88593961e-002, 5.58212588e-003],\n",
              "       [2.04847629e-012, 4.91312601e-002],\n",
              "       [8.73971002e-002, 7.54193661e-003],\n",
              "       [1.00203736e-001, 2.30989727e-003],\n",
              "       [4.05923974e-002, 6.20200495e-011]])"
            ]
          },
          "metadata": {},
          "execution_count": 21
        }
      ]
    },
    {
      "cell_type": "code",
      "source": [
        "ypreds= model.predict(X_test)\n",
        "ypreds\n"
      ],
      "metadata": {
        "id": "D4clV6PK1UJK",
        "colab": {
          "base_uri": "https://localhost:8080/"
        },
        "outputId": "41471fce-f577-4f5a-d833-ef38788e9719"
      },
      "execution_count": 22,
      "outputs": [
        {
          "output_type": "execute_result",
          "data": {
            "text/plain": [
              "array([1, 1, 0, 0, 0, 1, 1, 1, 1, 0, 0, 0, 0, 0, 1, 0, 0, 0, 1, 1, 0, 0,\n",
              "       1, 0, 0, 1, 1, 1, 0, 0, 0, 1, 0, 1, 0, 0, 1, 1, 1, 1, 0, 0, 0, 0,\n",
              "       0, 1, 0, 1, 0, 1, 1, 0, 1, 0, 1, 1, 0, 1, 1, 0, 0, 0, 1, 1, 1, 0,\n",
              "       1, 0, 0, 1, 0, 0, 1, 1, 1, 0, 1, 1, 0, 0, 1, 0, 0, 1, 0, 0, 0, 1,\n",
              "       0, 1, 0, 1, 0, 0, 1, 1, 1, 0, 1, 1, 0, 0, 0, 1, 1, 1, 0, 1, 1, 1,\n",
              "       1, 0, 0, 0, 1, 0, 1, 0, 1, 1, 0, 0, 1, 1, 0, 1, 0, 0, 0, 1, 1, 0,\n",
              "       0, 0, 0, 1, 1, 1, 1, 1, 0, 0, 0, 0, 1, 1, 1, 0, 1, 1, 0, 1, 1, 0,\n",
              "       1, 0, 1, 0, 0, 1, 0, 0, 1, 1, 0, 0, 1, 1, 1, 0, 1, 1, 1, 0, 0, 1,\n",
              "       0, 0, 1, 1, 0, 0, 0, 0, 0, 1, 0, 0, 1, 1, 1, 1, 0, 0, 0, 0, 1, 0,\n",
              "       0, 0])"
            ]
          },
          "metadata": {},
          "execution_count": 22
        }
      ]
    },
    {
      "cell_type": "code",
      "source": [
        "model.accuracy(y_test, ypreds)"
      ],
      "metadata": {
        "id": "QgG1xPUg1ULw",
        "colab": {
          "base_uri": "https://localhost:8080/"
        },
        "outputId": "e164f7bd-b77f-4d96-8a60-ffd92fa17bea"
      },
      "execution_count": 23,
      "outputs": [
        {
          "output_type": "execute_result",
          "data": {
            "text/plain": [
              "97.5"
            ]
          },
          "metadata": {},
          "execution_count": 23
        }
      ]
    },
    {
      "cell_type": "code",
      "source": [
        "class LogisticRegression:\n",
        "  '''\n",
        "  The goal of this class is to create a LogisticRegression class, \n",
        "  that we will use as our model to classify data point into a corresponding class\n",
        "  '''\n",
        "  def __init__(self,lr,n_epochs):\n",
        "    self.lr = lr\n",
        "    self.n_epochs = n_epochs\n",
        "    self.train_losses = []\n",
        "    self.w = None\n",
        "    self.weight = []\n",
        "\n",
        "  def add_ones(self, x):\n",
        "    ##### WRITE YOUR CODE HERE #####\n",
        "    one = np.ones((x.shape[0],1))\n",
        "    return np.hstack((one,x))\n",
        "    #### END CODE ####\n",
        "\n",
        "  def sigmoid(self, x):\n",
        "    return 1/(1+np.exp(-x@self.w))\n",
        "\n",
        "\n",
        "  def cross_entropy(self, x, y_true):\n",
        "    ##### WRITE YOUR CODE HERE #####\n",
        "    y_pred = self.sigmoid(x)\n",
        "    loss = -np.mean(y_true*np.log(y_pred)+(1-y_true)*np.log(1-y_pred))\n",
        "    return loss\n",
        "    #### END CODE ####\n",
        "  \n",
        "  def predict_proba(self,x):  #This function will use the sigmoid function to compute the probalities\n",
        "    ##### WRITE YOUR CODE HERE #####\n",
        "    x= self.add_ones(x)\n",
        "    proba = self.sigmoid(x)\n",
        "    return proba\n",
        "    #### END CODE ####\n",
        "\n",
        "  def predict(self,x):\n",
        "    ##### WRITE YOUR CODE HERE #####\n",
        "    probas = self.predict_proba(x)\n",
        "    output = [0 if p<0.5 else 1 for p in probas]#np.where(probas>=0.5, 1, 0)      #convert the probalities into 0 and 1 by using a treshold=0.5\n",
        "    return output\n",
        "    #### END CODE ####\n",
        "\n",
        "  def fit(self,x,y):\n",
        "    # Add ones to x\n",
        "    x=self.add_ones(x)\n",
        "\n",
        "    # reshape y if needed\n",
        "    y=y.reshape(-1,1)\n",
        "\n",
        "    # Initialize w to zeros vector >>> (x.shape[1])\n",
        "    self.w=np.zeros((x.shape[1],1))\n",
        "\n",
        "    for epoch in range(self.n_epochs):\n",
        "      # make predictions\n",
        "      ypred = self.sigmoid(x)\n",
        "\n",
        "      #compute the gradient\n",
        "      dl = (-1/x.shape[0])*(x.T@(y-ypred))\n",
        "\n",
        "      #update rule\n",
        "      self.w=self.w-self.lr*dl\n",
        "\n",
        "      #Compute and append the training loss in a list\n",
        "      loss = self.cross_entropy(x,y)\n",
        "      self.train_losses.append(loss)\n",
        "\n",
        "      if epoch%1000 == 0:\n",
        "        print(f'loss for epoch {epoch}  : {loss}')\n",
        "\n",
        "  def accuracy(self,y_true, y_pred):\n",
        "    ##### WRITE YOUR CODE HERE #####\n",
        "    acc = np.mean(y_true==y_pred)*100\n",
        "    return acc\n",
        "    #### END CODE ####"
      ],
      "metadata": {
        "id": "CVdx9SImnTTr"
      },
      "execution_count": 31,
      "outputs": []
    },
    {
      "cell_type": "code",
      "source": [
        "model_R = LogisticRegression(0.01,n_epochs=10000)\n",
        "model_R.fit(X_train,y_train)\n"
      ],
      "metadata": {
        "colab": {
          "base_uri": "https://localhost:8080/"
        },
        "id": "yNYZLcv8nUUT",
        "outputId": "a4d04ed2-ebb9-42ce-ac70-42e498cd9230"
      },
      "execution_count": 32,
      "outputs": [
        {
          "output_type": "stream",
          "name": "stdout",
          "text": [
            "loss for epoch 0  : 0.6881971314839734\n",
            "loss for epoch 1000  : 0.1955306716655516\n",
            "loss for epoch 2000  : 0.1709045542993211\n",
            "loss for epoch 3000  : 0.16134226142464725\n",
            "loss for epoch 4000  : 0.15597953879312473\n",
            "loss for epoch 5000  : 0.15242952021865422\n",
            "loss for epoch 6000  : 0.14985663597163124\n",
            "loss for epoch 7000  : 0.14788756596575856\n",
            "loss for epoch 8000  : 0.14632684322132927\n",
            "loss for epoch 9000  : 0.14505982103405585\n"
          ]
        }
      ]
    },
    {
      "cell_type": "code",
      "source": [
        "ypred_train = model_R.predict(X_train)\n",
        "acc = model_R.accuracy(y_train,ypred_train)\n",
        "print(f\"The training accuracy is: {acc}\")\n",
        "print(\" \")\n",
        "\n",
        "ypred_test = model_R.predict(X_test)\n",
        "acc = model_R.accuracy(y_test,ypred_test)\n",
        "print(f\"The test accuracy is: {acc}\")"
      ],
      "metadata": {
        "colab": {
          "base_uri": "https://localhost:8080/"
        },
        "id": "uJHkehevnjnI",
        "outputId": "ff69139e-2074-4673-b1cf-f8149bfd2853"
      },
      "execution_count": 33,
      "outputs": [
        {
          "output_type": "stream",
          "name": "stdout",
          "text": [
            "The training accuracy is: 95.875\n",
            " \n",
            "The test accuracy is: 95.5\n"
          ]
        }
      ]
    },
    {
      "cell_type": "code",
      "source": [
        "#Load the iris dataset from sklearn\n",
        "X, y = make_classification(n_features=2, n_redundant=0, \n",
        "                           n_informative=2, random_state=1, \n",
        "                           n_clusters_per_class=1)"
      ],
      "metadata": {
        "id": "cTlvVmsQjIVN"
      },
      "execution_count": 24,
      "outputs": []
    },
    {
      "cell_type": "code",
      "source": [
        "def train_test_split(X,y):\n",
        "  '''\n",
        "  this function takes as input the sample X and the corresponding features y\n",
        "  and output the training and test set\n",
        "  '''\n",
        "  np.random.seed(0) # To demonstrate that if we use the same seed value twice, we will get the same random number twice\n",
        "  \n",
        "  train_size = 0.8\n",
        "  n = int(len(X)*train_size)\n",
        "  indices = np.arange(len(X))\n",
        "  np.random.shuffle(indices)\n",
        "  train_idx = indices[: n]\n",
        "  test_idx = indices[n:]\n",
        "  X_train, y_train = X[train_idx], y[train_idx]\n",
        "  X_test, y_test = X[test_idx], y[test_idx]\n",
        "\n",
        "  return X_train, y_train, X_test, y_test"
      ],
      "metadata": {
        "id": "TF56T5yGlYRB"
      },
      "execution_count": 25,
      "outputs": []
    },
    {
      "cell_type": "code",
      "source": [
        "X_train_, y_train_, X_test_, y_test_ = train_test_split(X,y)\n",
        "print(f\" the training shape is: {X_train.shape}\")\n",
        "print(f\" the test shape is: {X_test.shape}\")"
      ],
      "metadata": {
        "colab": {
          "base_uri": "https://localhost:8080/"
        },
        "id": "8aDVYrHNlbeV",
        "outputId": "e22539aa-04dd-4c49-8f6a-61adb533be95"
      },
      "execution_count": 26,
      "outputs": [
        {
          "output_type": "stream",
          "name": "stdout",
          "text": [
            " the training shape is: (800, 3)\n",
            " the test shape is: (200, 3)\n"
          ]
        }
      ]
    },
    {
      "cell_type": "code",
      "source": [
        "model_= GDA()\n",
        "model_.fit(X_train_,y_train_)"
      ],
      "metadata": {
        "id": "HF6uUXj2l2ka"
      },
      "execution_count": 27,
      "outputs": []
    },
    {
      "cell_type": "code",
      "source": [
        "yproba= model_.predict_proba(X_test_)\n",
        "yproba"
      ],
      "metadata": {
        "colab": {
          "base_uri": "https://localhost:8080/"
        },
        "id": "t6UmmBDMmIRx",
        "outputId": "d15e5dbc-60ec-4b46-e931-fa58e21662b2"
      },
      "execution_count": 28,
      "outputs": [
        {
          "output_type": "execute_result",
          "data": {
            "text/plain": [
              "array([[1.11014876e-42, 6.14021076e-01],\n",
              "       [1.95061563e-02, 6.04563783e-11],\n",
              "       [7.10316808e-02, 5.44637293e-09],\n",
              "       [1.54663108e-31, 5.66293667e-01],\n",
              "       [8.88769082e-01, 1.33564646e-09],\n",
              "       [6.17700729e-73, 6.62243049e-02],\n",
              "       [3.88766721e-34, 7.23160294e-01],\n",
              "       [1.12207855e+00, 3.90529721e-10],\n",
              "       [5.60117123e-33, 2.87454331e-01],\n",
              "       [8.72887431e-01, 4.19018690e-12],\n",
              "       [2.36936400e-25, 2.12023748e-01],\n",
              "       [4.06250020e-01, 1.17223917e-08],\n",
              "       [1.14574859e-01, 7.26831181e-13],\n",
              "       [1.41657666e-52, 4.50964006e-01],\n",
              "       [9.27741002e-24, 1.65288507e-02],\n",
              "       [4.04353498e-52, 2.89338450e-01],\n",
              "       [8.11522272e-01, 1.05102747e-11],\n",
              "       [5.89138365e-01, 1.36709905e-09],\n",
              "       [1.27870736e-45, 6.90756661e-01],\n",
              "       [1.49690862e-20, 1.20969949e-02]])"
            ]
          },
          "metadata": {},
          "execution_count": 28
        }
      ]
    },
    {
      "cell_type": "code",
      "source": [
        "ypreds= model_.predict(X_test_)\n",
        "ypreds\n"
      ],
      "metadata": {
        "colab": {
          "base_uri": "https://localhost:8080/"
        },
        "id": "bY-7vOJQmIVx",
        "outputId": "3affa1fe-26d5-4198-cdf5-239b9179c473"
      },
      "execution_count": 29,
      "outputs": [
        {
          "output_type": "execute_result",
          "data": {
            "text/plain": [
              "array([1, 0, 0, 1, 0, 1, 1, 0, 1, 0, 1, 0, 0, 1, 1, 1, 0, 0, 1, 1])"
            ]
          },
          "metadata": {},
          "execution_count": 29
        }
      ]
    },
    {
      "cell_type": "code",
      "source": [
        "model_.accuracy(y_test_, ypreds)"
      ],
      "metadata": {
        "colab": {
          "base_uri": "https://localhost:8080/"
        },
        "id": "Fvzp6klPmRTx",
        "outputId": "02bf9fab-c757-441e-e57c-93da3f5353bf"
      },
      "execution_count": 30,
      "outputs": [
        {
          "output_type": "execute_result",
          "data": {
            "text/plain": [
              "100.0"
            ]
          },
          "metadata": {},
          "execution_count": 30
        }
      ]
    },
    {
      "cell_type": "code",
      "source": [],
      "metadata": {
        "id": "m52UAbNnnjuY"
      },
      "execution_count": null,
      "outputs": []
    }
  ]
}